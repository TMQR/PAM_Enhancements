{
 "cells": [
  {
   "cell_type": "code",
   "execution_count": 1,
   "metadata": {},
   "outputs": [
    {
     "name": "stdout",
     "output_type": "stream",
     "text": [
      "Populating the interactive namespace from numpy and matplotlib\n"
     ]
    }
   ],
   "source": [
    "%pylab inline\n",
    "%load_ext autoreload\n",
    "%autoreload 2\n",
    "import seaborn as sn"
   ]
  },
  {
   "cell_type": "code",
   "execution_count": 2,
   "metadata": {},
   "outputs": [],
   "source": [
    "import sys,os\n",
    "#sys.path.append('..')\n",
    "from backtester.analysis import *\n",
    "from backtester.strategy import StrategyBase, OptParam, OptParamArray\n",
    "from backtester.swarms.ranking import SwarmRanker\n",
    "from backtester.swarms.rebalancing import SwarmRebalance\n",
    "from backtester.swarms.filters import SwarmFilter\n",
    "from backtester.costs import CostsManagerEXOFixed\n",
    "from backtester.exoinfo import EXOInfo\n",
    "from backtester.swarms.rankingclasses import *\n",
    "from backtester.swarms.swarm import Swarm\n",
    "\n",
    "import datetime\n",
    "import pandas as pd\n",
    "import numpy as np\n",
    "import scipy"
   ]
  },
  {
   "cell_type": "code",
   "execution_count": 3,
   "metadata": {
    "scrolled": false
   },
   "outputs": [
    {
     "name": "stdout",
     "output_type": "stream",
     "text": [
      "6A_ContFut [OK]\n",
      "6B_ContFut [OK]\n",
      "6C_ContFut [OK]\n",
      "6E_ContFut [OK]\n",
      "6J_ContFut [OK]\n",
      "AL1_ContFut [DELAYED: LastDate: 2018-09-28 00:00:00]\n",
      "AW6_ContFut [DELAYED: LastDate: 2018-09-28 00:00:00]\n",
      "B6L_ContFut [DELAYED: LastDate: 2018-09-28 00:00:00]\n",
      "CC_ContFut [OK]\n",
      "CL_ContFut [OK]\n",
      "DC_ContFut [OK]\n",
      "E4L_ContFut [DELAYED: LastDate: 2018-09-28 00:00:00]\n",
      "ES_ContFut [OK]\n",
      "GC_ContFut [OK]\n",
      "HE_ContFut [OK]\n",
      "HG_ContFut [OK]\n",
      "HO_ContFut [OK]\n",
      "KC_ContFut [DELAYED: LastDate: 2016-07-11 00:00:00]\n",
      "L3L_ContFut [DELAYED: LastDate: 2018-09-28 00:00:00]\n",
      "LBS_ContFut [OK]\n",
      "LE_ContFut [OK]\n",
      "N9L_ContFut [DELAYED: LastDate: 2018-09-28 00:00:00]\n",
      "NG_ContFut [OK]\n",
      "NQ_ContFut [OK]\n",
      "R7L_ContFut [DELAYED: LastDate: 2018-09-28 00:00:00]\n",
      "RB_ContFut [OK]\n",
      "SB_ContFut [OK]\n",
      "SI_ContFut [OK]\n",
      "V3L_ContFut [DELAYED: LastDate: 2018-09-28 00:00:00]\n",
      "VX_ContFut [OK]\n",
      "XAB_ContFut [OK]\n",
      "XAE_ContFut [OK]\n",
      "XAF_ContFut [OK]\n",
      "XAI_ContFut [OK]\n",
      "XAK_ContFut [OK]\n",
      "XAP_ContFut [OK]\n",
      "XAU_ContFut [OK]\n",
      "XAV_ContFut [OK]\n",
      "XAY_ContFut [OK]\n",
      "ZB_ContFut [OK]\n",
      "ZC_ContFut [OK]\n",
      "ZF_ContFut [OK]\n",
      "ZL_ContFut [OK]\n",
      "ZN_ContFut [OK]\n",
      "ZS_ContFut [OK]\n",
      "ZW_ContFut [OK]\n"
     ]
    }
   ],
   "source": [
    "from scripts.settings import *\n",
    "try:\n",
    "    from scripts.settings_local import *\n",
    "except:\n",
    "    pass\n",
    "\n",
    "from exobuilder.data.exostorage import EXOStorage\n",
    "\n",
    "storage = EXOStorage(MONGO_CONNSTR, MONGO_EXO_DB)\n",
    "\n",
    "#INSTRUMENTS_LIST = ['ES', 'CL', 'NG', 'ZN', 'ZS', 'ZW', 'ZC', '6E', 'CC']\n",
    "# INSTRUMENTS_LIST = ['CL']\n",
    "\n",
    "#exo_filter = 'neutralOnly'     # All \n",
    "#exo_filter = 'ZC'  # ES only\n",
    "exo_filter = 'ContFut'  # ES Collars (incl Bearish, Bullish, BW and vanilla)\n",
    "\n",
    "# Do quick sanity checks\n",
    "for exo in sorted(storage.exo_list(exo_filter)):\n",
    "    #print(exo)\n",
    "    exo_df, exo_dict = storage.load_series(exo)\n",
    "    \n",
    "    if len(exo_df) < 200:\n",
    "        print(\"{0} [NODATA DataLen: {1}]\".format(exo, len(exo_df)))\n",
    "        #storage.delete_exo(exo)\n",
    "    elif (datetime.datetime.now() - exo_df.index[-1]).days > 4:\n",
    "        print(\"{0} [DELAYED: LastDate: {1}]\".format(exo, exo_df.index[-1]))\n",
    "        #storage.delete_exo(exo)\n",
    "    else:\n",
    "        print(\"{0} [OK]\".format(exo))"
   ]
  },
  {
   "cell_type": "markdown",
   "metadata": {},
   "source": [
    "### Delete EXO"
   ]
  },
  {
   "cell_type": "code",
   "execution_count": 4,
   "metadata": {},
   "outputs": [],
   "source": [
    "# storage.delete_exo('VX_ContFut')"
   ]
  },
  {
   "cell_type": "markdown",
   "metadata": {},
   "source": [
    "# Single EXO analysis"
   ]
  },
  {
   "cell_type": "code",
   "execution_count": 5,
   "metadata": {},
   "outputs": [],
   "source": [
    "EXO_NAME = 'VX_ContFut' ###\n",
    "exo_df, exo_dict = storage.load_series(EXO_NAME)"
   ]
  },
  {
   "cell_type": "code",
   "execution_count": 6,
   "metadata": {},
   "outputs": [],
   "source": [
    "vix = exo_df['exo'].to_csv('/home/tmqr/v1/notebooks/PAM Enhanced/S&P Alphas/vix.csv')"
   ]
  },
  {
   "cell_type": "code",
   "execution_count": 7,
   "metadata": {},
   "outputs": [
    {
     "data": {
      "text/plain": [
       "'/home/tmqr/v1/notebooks/PAM Enhanced/S&P Alphas'"
      ]
     },
     "execution_count": 7,
     "metadata": {},
     "output_type": "execute_result"
    }
   ],
   "source": [
    "pwd"
   ]
  },
  {
   "cell_type": "code",
   "execution_count": 8,
   "metadata": {},
   "outputs": [],
   "source": [
    "vix = pd.DataFrame(pd.read_csv('vix.csv',date_parser=True))\n",
    "vix.columns = [['date','equity']]\n",
    "vix.index = vix['date']\n",
    "vix.index = pd.to_datetime(vix.index)\n",
    "del vix['date']"
   ]
  },
  {
   "cell_type": "code",
   "execution_count": 9,
   "metadata": {},
   "outputs": [],
   "source": [
    "vix.to_csv('/home/tmqr/v1/notebooks/PAM Enhanced/S&P Alphas/vix.csv')"
   ]
  },
  {
   "cell_type": "code",
   "execution_count": 10,
   "metadata": {},
   "outputs": [],
   "source": [
    "# vix.tail(20).plot()"
   ]
  },
  {
   "cell_type": "code",
   "execution_count": 11,
   "metadata": {},
   "outputs": [],
   "source": [
    "vix_w_deltas = exo_df[['exo','delta']].to_csv('/home/tmqr/v1/notebooks/PAM Enhanced/S&P Alphas/vix_w_deltas.csv')"
   ]
  },
  {
   "cell_type": "code",
   "execution_count": 12,
   "metadata": {},
   "outputs": [],
   "source": [
    "vix_w_deltas = pd.DataFrame(pd.read_csv('vix_w_deltas.csv',date_parser=True))\n",
    "vix_w_deltas.columns = [['date','equity', 'delta']]\n",
    "vix_w_deltas.index = vix_w_deltas['date']\n",
    "vix_w_deltas.index = pd.to_datetime(vix_w_deltas.index)\n",
    "del vix_w_deltas['date']"
   ]
  },
  {
   "cell_type": "code",
   "execution_count": 15,
   "metadata": {},
   "outputs": [
    {
     "data": {
      "text/html": [
       "<div>\n",
       "<table border=\"1\" class=\"dataframe\">\n",
       "  <thead>\n",
       "    <tr style=\"text-align: right;\">\n",
       "      <th></th>\n",
       "      <th>equity</th>\n",
       "      <th>delta</th>\n",
       "    </tr>\n",
       "    <tr>\n",
       "      <th>date</th>\n",
       "      <th></th>\n",
       "      <th></th>\n",
       "    </tr>\n",
       "  </thead>\n",
       "  <tbody>\n",
       "    <tr>\n",
       "      <th>2019-02-27</th>\n",
       "      <td>-54400.0</td>\n",
       "      <td>1.0</td>\n",
       "    </tr>\n",
       "    <tr>\n",
       "      <th>2019-02-28</th>\n",
       "      <td>-54400.0</td>\n",
       "      <td>1.0</td>\n",
       "    </tr>\n",
       "    <tr>\n",
       "      <th>2019-03-01</th>\n",
       "      <td>-54850.0</td>\n",
       "      <td>1.0</td>\n",
       "    </tr>\n",
       "    <tr>\n",
       "      <th>2019-03-04</th>\n",
       "      <td>-55400.0</td>\n",
       "      <td>1.0</td>\n",
       "    </tr>\n",
       "    <tr>\n",
       "      <th>2019-03-05</th>\n",
       "      <td>-54900.0</td>\n",
       "      <td>1.0</td>\n",
       "    </tr>\n",
       "  </tbody>\n",
       "</table>\n",
       "</div>"
      ],
      "text/plain": [
       "             equity  delta\n",
       "date                      \n",
       "2019-02-27 -54400.0    1.0\n",
       "2019-02-28 -54400.0    1.0\n",
       "2019-03-01 -54850.0    1.0\n",
       "2019-03-04 -55400.0    1.0\n",
       "2019-03-05 -54900.0    1.0"
      ]
     },
     "execution_count": 15,
     "metadata": {},
     "output_type": "execute_result"
    }
   ],
   "source": [
    "vix_w_deltas.tail()"
   ]
  },
  {
   "cell_type": "code",
   "execution_count": 16,
   "metadata": {},
   "outputs": [],
   "source": [
    "vix_w_deltas.to_csv('/home/tmqr/v1/notebooks/PAM Enhanced/S&P Alphas/vix_w_deltas.csv')"
   ]
  },
  {
   "cell_type": "code",
   "execution_count": null,
   "metadata": {},
   "outputs": [],
   "source": []
  },
  {
   "cell_type": "code",
   "execution_count": null,
   "metadata": {},
   "outputs": [],
   "source": []
  }
 ],
 "metadata": {
  "kernelspec": {
   "display_name": "Python 3",
   "language": "python",
   "name": "python3"
  },
  "language_info": {
   "codemirror_mode": {
    "name": "ipython",
    "version": 3
   },
   "file_extension": ".py",
   "mimetype": "text/x-python",
   "name": "python",
   "nbconvert_exporter": "python",
   "pygments_lexer": "ipython3",
   "version": "3.5.5"
  }
 },
 "nbformat": 4,
 "nbformat_minor": 2
}
